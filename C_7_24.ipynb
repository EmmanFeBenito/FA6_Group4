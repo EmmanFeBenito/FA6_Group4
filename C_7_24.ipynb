{
  "nbformat": 4,
  "nbformat_minor": 0,
  "metadata": {
    "colab": {
      "provenance": []
    },
    "kernelspec": {
      "name": "python3",
      "display_name": "Python 3"
    },
    "language_info": {
      "name": "python"
    }
  },
  "cells": [
    {
      "cell_type": "markdown",
      "source": [
        "Give a complete implementation of the stack ADT using a singly linked list that includes a header sentinel."
      ],
      "metadata": {
        "id": "Cb4ufB20Tc9s"
      }
    },
    {
      "cell_type": "code",
      "execution_count": 1,
      "metadata": {
        "colab": {
          "base_uri": "https://localhost:8080/"
        },
        "id": "bgJlNQ1aTZcr",
        "outputId": "04066ff3-262b-476f-80b5-b7ac2131c85a"
      },
      "outputs": [
        {
          "output_type": "stream",
          "name": "stdout",
          "text": [
            "Stack contents:\n",
            "30 -> 20 -> 10\n",
            "Top element: 30\n",
            "Popped element: 30\n",
            "Popped element: 20\n",
            "Updated stack contents:\n",
            "10\n"
          ]
        }
      ],
      "source": [
        "class Node:\n",
        "    def __init__(self, data=None):\n",
        "        self.data = data\n",
        "        self.next = None\n",
        "\n",
        "class Stack:\n",
        "    def __init__(self):\n",
        "        self.head = Node()\n",
        "        self.head.next = None\n",
        "\n",
        "    def is_empty(self):\n",
        "        return self.head.next is None\n",
        "\n",
        "    def push(self, data):\n",
        "        new_node = Node(data)\n",
        "        new_node.next = self.head.next\n",
        "        self.head.next = new_node\n",
        "\n",
        "    def pop(self):\n",
        "        if self.is_empty():\n",
        "            return None\n",
        "        else:\n",
        "            popped_node = self.head.next\n",
        "            self.head.next = popped_node.next\n",
        "            return popped_node.data\n",
        "\n",
        "    def peek(self):\n",
        "        if self.is_empty():\n",
        "            return None\n",
        "        else:\n",
        "            return self.head.next.data\n",
        "\n",
        "    def display(self):\n",
        "        current = self.head.next\n",
        "        if self.is_empty():\n",
        "            print(\"Stack is empty\")\n",
        "        else:\n",
        "            while current:\n",
        "                print(current.data, end=\" -> \" if current.next else \"\")\n",
        "                current = current.next\n",
        "            print()\n",
        "\n",
        "if __name__ == \"__main__\":\n",
        "    stack = Stack()\n",
        "\n",
        "    stack.push(10)\n",
        "    stack.push(20)\n",
        "    stack.push(30)\n",
        "\n",
        "    print(\"Stack contents:\")\n",
        "    stack.display()\n",
        "\n",
        "    print(\"Top element:\", stack.peek())\n",
        "\n",
        "    print(\"Popped element:\", stack.pop())\n",
        "    print(\"Popped element:\", stack.pop())\n",
        "\n",
        "    print(\"Updated stack contents:\")\n",
        "    stack.display()"
      ]
    }
  ]
}